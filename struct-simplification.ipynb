{
 "cells": [
  {
   "cell_type": "code",
   "execution_count": 1,
   "metadata": {},
   "outputs": [],
   "source": [
    "import pandas as pd\n",
    "from nlg import templates as tmpl\n",
    "from importlib import reload"
   ]
  },
  {
   "cell_type": "code",
   "execution_count": 2,
   "metadata": {},
   "outputs": [],
   "source": [
    "df = pd.read_excel('/tmp/ac-census-summary.xlsx')"
   ]
  },
  {
   "cell_type": "code",
   "execution_count": 3,
   "metadata": {},
   "outputs": [
    {
     "data": {
      "text/html": [
       "<div>\n",
       "<style scoped>\n",
       "    .dataframe tbody tr th:only-of-type {\n",
       "        vertical-align: middle;\n",
       "    }\n",
       "\n",
       "    .dataframe tbody tr th {\n",
       "        vertical-align: top;\n",
       "    }\n",
       "\n",
       "    .dataframe thead th {\n",
       "        text-align: right;\n",
       "    }\n",
       "</style>\n",
       "<table border=\"1\" class=\"dataframe\">\n",
       "  <thead>\n",
       "    <tr style=\"text-align: right;\">\n",
       "      <th></th>\n",
       "      <th>State</th>\n",
       "      <th>Assembly_Constituency</th>\n",
       "      <th>No_HH</th>\n",
       "      <th>TOT_P</th>\n",
       "      <th>TOT_M</th>\n",
       "      <th>TOT_F</th>\n",
       "      <th>P_06</th>\n",
       "      <th>M_06</th>\n",
       "      <th>F_06</th>\n",
       "      <th>P_SC</th>\n",
       "      <th>...</th>\n",
       "      <th>Buddhist_Females</th>\n",
       "      <th>Jain_Persons</th>\n",
       "      <th>Jain_Males</th>\n",
       "      <th>Jain_Females</th>\n",
       "      <th>Others_Persons</th>\n",
       "      <th>Others_Males</th>\n",
       "      <th>Others_Females</th>\n",
       "      <th>Not_stated_Persons</th>\n",
       "      <th>Not_stated_Males</th>\n",
       "      <th>Not_stated_Females</th>\n",
       "    </tr>\n",
       "  </thead>\n",
       "  <tbody>\n",
       "    <tr>\n",
       "      <th>0</th>\n",
       "      <td>GUJARAT</td>\n",
       "      <td>Abdasa</td>\n",
       "      <td>66098.275568</td>\n",
       "      <td>310322.647484</td>\n",
       "      <td>162658.691711</td>\n",
       "      <td>147663.955773</td>\n",
       "      <td>47224.156151</td>\n",
       "      <td>24580.996999</td>\n",
       "      <td>22643.159153</td>\n",
       "      <td>38391.762362</td>\n",
       "      <td>...</td>\n",
       "      <td>33.815018</td>\n",
       "      <td>3754.060276</td>\n",
       "      <td>1837.134349</td>\n",
       "      <td>1916.925927</td>\n",
       "      <td>14.534525</td>\n",
       "      <td>8.305443</td>\n",
       "      <td>6.229082</td>\n",
       "      <td>393.025432</td>\n",
       "      <td>219.204373</td>\n",
       "      <td>173.821059</td>\n",
       "    </tr>\n",
       "    <tr>\n",
       "      <th>1</th>\n",
       "      <td>CHHATTISGARH</td>\n",
       "      <td>Abhanpur</td>\n",
       "      <td>38784.213721</td>\n",
       "      <td>180946.049268</td>\n",
       "      <td>91191.325934</td>\n",
       "      <td>89754.723334</td>\n",
       "      <td>25942.723588</td>\n",
       "      <td>13182.765828</td>\n",
       "      <td>12759.957760</td>\n",
       "      <td>32122.177725</td>\n",
       "      <td>...</td>\n",
       "      <td>189.039240</td>\n",
       "      <td>764.676530</td>\n",
       "      <td>391.204377</td>\n",
       "      <td>373.472153</td>\n",
       "      <td>492.654428</td>\n",
       "      <td>242.294655</td>\n",
       "      <td>250.359772</td>\n",
       "      <td>144.382593</td>\n",
       "      <td>74.310434</td>\n",
       "      <td>70.072159</td>\n",
       "    </tr>\n",
       "    <tr>\n",
       "      <th>2</th>\n",
       "      <td>ASSAM</td>\n",
       "      <td>Abhayapuri North</td>\n",
       "      <td>46980.024693</td>\n",
       "      <td>231412.059520</td>\n",
       "      <td>117712.464462</td>\n",
       "      <td>113699.595057</td>\n",
       "      <td>36428.619348</td>\n",
       "      <td>18497.540547</td>\n",
       "      <td>17931.078801</td>\n",
       "      <td>25635.190392</td>\n",
       "      <td>...</td>\n",
       "      <td>40.049540</td>\n",
       "      <td>266.157907</td>\n",
       "      <td>134.141591</td>\n",
       "      <td>132.016316</td>\n",
       "      <td>9.249913</td>\n",
       "      <td>4.575249</td>\n",
       "      <td>4.674664</td>\n",
       "      <td>384.359999</td>\n",
       "      <td>183.098277</td>\n",
       "      <td>201.261722</td>\n",
       "    </tr>\n",
       "    <tr>\n",
       "      <th>3</th>\n",
       "      <td>ASSAM</td>\n",
       "      <td>Abhayapuri South</td>\n",
       "      <td>64596.785611</td>\n",
       "      <td>317850.368633</td>\n",
       "      <td>161706.959779</td>\n",
       "      <td>156143.408855</td>\n",
       "      <td>50270.595327</td>\n",
       "      <td>25525.875488</td>\n",
       "      <td>24744.719839</td>\n",
       "      <td>35124.031066</td>\n",
       "      <td>...</td>\n",
       "      <td>51.954623</td>\n",
       "      <td>372.711278</td>\n",
       "      <td>188.011825</td>\n",
       "      <td>184.699452</td>\n",
       "      <td>3.934692</td>\n",
       "      <td>2.189880</td>\n",
       "      <td>1.744812</td>\n",
       "      <td>511.324816</td>\n",
       "      <td>243.888811</td>\n",
       "      <td>267.436006</td>\n",
       "    </tr>\n",
       "    <tr>\n",
       "      <th>4</th>\n",
       "      <td>PUNJAB</td>\n",
       "      <td>Abohar</td>\n",
       "      <td>28286.148735</td>\n",
       "      <td>148666.174051</td>\n",
       "      <td>78518.020532</td>\n",
       "      <td>70148.153519</td>\n",
       "      <td>18183.862949</td>\n",
       "      <td>9844.236911</td>\n",
       "      <td>8339.626039</td>\n",
       "      <td>62653.484163</td>\n",
       "      <td>...</td>\n",
       "      <td>12.900005</td>\n",
       "      <td>83.303424</td>\n",
       "      <td>42.562729</td>\n",
       "      <td>40.740695</td>\n",
       "      <td>20.261025</td>\n",
       "      <td>11.442378</td>\n",
       "      <td>8.818648</td>\n",
       "      <td>275.054349</td>\n",
       "      <td>128.854290</td>\n",
       "      <td>146.200059</td>\n",
       "    </tr>\n",
       "  </tbody>\n",
       "</table>\n",
       "<p>5 rows × 114 columns</p>\n",
       "</div>"
      ],
      "text/plain": [
       "          State Assembly_Constituency         No_HH          TOT_P  \\\n",
       "0       GUJARAT                Abdasa  66098.275568  310322.647484   \n",
       "1  CHHATTISGARH              Abhanpur  38784.213721  180946.049268   \n",
       "2         ASSAM      Abhayapuri North  46980.024693  231412.059520   \n",
       "3         ASSAM      Abhayapuri South  64596.785611  317850.368633   \n",
       "4        PUNJAB                Abohar  28286.148735  148666.174051   \n",
       "\n",
       "           TOT_M          TOT_F          P_06          M_06          F_06  \\\n",
       "0  162658.691711  147663.955773  47224.156151  24580.996999  22643.159153   \n",
       "1   91191.325934   89754.723334  25942.723588  13182.765828  12759.957760   \n",
       "2  117712.464462  113699.595057  36428.619348  18497.540547  17931.078801   \n",
       "3  161706.959779  156143.408855  50270.595327  25525.875488  24744.719839   \n",
       "4   78518.020532   70148.153519  18183.862949   9844.236911   8339.626039   \n",
       "\n",
       "           P_SC         ...          Buddhist_Females  Jain_Persons  \\\n",
       "0  38391.762362         ...                 33.815018   3754.060276   \n",
       "1  32122.177725         ...                189.039240    764.676530   \n",
       "2  25635.190392         ...                 40.049540    266.157907   \n",
       "3  35124.031066         ...                 51.954623    372.711278   \n",
       "4  62653.484163         ...                 12.900005     83.303424   \n",
       "\n",
       "    Jain_Males  Jain_Females  Others_Persons  Others_Males  Others_Females  \\\n",
       "0  1837.134349   1916.925927       14.534525      8.305443        6.229082   \n",
       "1   391.204377    373.472153      492.654428    242.294655      250.359772   \n",
       "2   134.141591    132.016316        9.249913      4.575249        4.674664   \n",
       "3   188.011825    184.699452        3.934692      2.189880        1.744812   \n",
       "4    42.562729     40.740695       20.261025     11.442378        8.818648   \n",
       "\n",
       "   Not_stated_Persons  Not_stated_Males  Not_stated_Females  \n",
       "0          393.025432        219.204373          173.821059  \n",
       "1          144.382593         74.310434           70.072159  \n",
       "2          384.359999        183.098277          201.261722  \n",
       "3          511.324816        243.888811          267.436006  \n",
       "4          275.054349        128.854290          146.200059  \n",
       "\n",
       "[5 rows x 114 columns]"
      ]
     },
     "execution_count": 3,
     "metadata": {},
     "output_type": "execute_result"
    }
   ],
   "source": [
    "df.head()"
   ]
  },
  {
   "cell_type": "code",
   "execution_count": 24,
   "metadata": {},
   "outputs": [],
   "source": [
    "xdf = df.groupby('State').sum()\n",
    "xdf['State'] = xdf.index.copy()\n",
    "xdf.index = range(xdf.shape[0])"
   ]
  },
  {
   "cell_type": "code",
   "execution_count": 25,
   "metadata": {},
   "outputs": [
    {
     "data": {
      "text/plain": [
       "'Jain population is found in the highest MAHARASHTRA.'"
      ]
     },
     "execution_count": 25,
     "metadata": {},
     "output_type": "execute_result"
    }
   ],
   "source": [
    "# Which state has the most Jain population?\n",
    "struct = {\n",
    "    'intent': 'extreme',\n",
    "    'data': xdf,\n",
    "    'metadata': {\n",
    "        'subject': 'Jain population',\n",
    "        'adjective': 'highest',\n",
    "        'verb': 'is found in',\n",
    "        'object': {\n",
    "            'template': '{region}',\n",
    "            'kwargs': {\n",
    "                'region': {\n",
    "                    '_type': 'cell',\n",
    "                    'colname': 'State',\n",
    "                    '_filter': {'colname': 'Jain_Persons', 'filter': 'max'}\n",
    "                }\n",
    "            }\n",
    "        }\n",
    "    }\n",
    "}\n",
    "tmpl.Narrative(struct).render()"
   ]
  },
  {
   "cell_type": "code",
   "execution_count": 28,
   "metadata": {},
   "outputs": [
    {
     "data": {
      "text/plain": [
       "'Arithang'"
      ]
     },
     "execution_count": 28,
     "metadata": {},
     "output_type": "execute_result"
    }
   ],
   "source": [
    "# The least populated constituency\n",
    "df.loc[df['TOT_P'].idxmin(), 'Assembly_Constituency']"
   ]
  },
  {
   "cell_type": "code",
   "execution_count": 33,
   "metadata": {},
   "outputs": [
    {
     "data": {
      "text/plain": [
       "'Population is the least Arithang.'"
      ]
     },
     "execution_count": 33,
     "metadata": {},
     "output_type": "execute_result"
    }
   ],
   "source": [
    "struct = {\n",
    "    'intent': 'extreme',\n",
    "    'data': df,\n",
    "    'metadata': {\n",
    "        'subject': 'Population',\n",
    "        'adjective': 'least',\n",
    "        'verb': 'is',\n",
    "        'object': {\n",
    "            'template': '{region}',\n",
    "            'kwargs': {\n",
    "                'region': {\n",
    "                    '_type': 'cell',\n",
    "                    'colname': 'Assembly_Constituency',\n",
    "                    '_filter': {'colname': 'TOT_P', 'filter': 'min'}\n",
    "                }\n",
    "            }\n",
    "        }\n",
    "    }\n",
    "}\n",
    "tmpl.Narrative(struct).render()"
   ]
  },
  {
   "cell_type": "code",
   "execution_count": null,
   "metadata": {},
   "outputs": [],
   "source": [
    "# The highest Jain population is in Maharashtra.\n",
    "{\n",
    "    'data': df,\n",
    "    'metadata': {\n",
    "        'template': 'The highest {x} is found in {y}',\n",
    "        'kwargs': {\n",
    "            'x': 'some formula',\n",
    "            'y': 'some formula'\n",
    "        }\n",
    "    }\n",
    "}"
   ]
  }
 ],
 "metadata": {
  "kernelspec": {
   "display_name": "Python 3",
   "language": "python",
   "name": "python3"
  },
  "language_info": {
   "codemirror_mode": {
    "name": "ipython",
    "version": 3
   },
   "file_extension": ".py",
   "mimetype": "text/x-python",
   "name": "python",
   "nbconvert_exporter": "python",
   "pygments_lexer": "ipython3",
   "version": "3.6.3"
  }
 },
 "nbformat": 4,
 "nbformat_minor": 2
}
