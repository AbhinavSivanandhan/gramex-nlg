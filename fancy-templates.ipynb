{
 "cells": [
  {
   "cell_type": "code",
   "execution_count": 1,
   "metadata": {},
   "outputs": [],
   "source": [
    "from datetime import datetime, timedelta\n",
    "from importlib import reload\n",
    "import numpy as np\n",
    "import pandas as pd\n",
    "import humanize as hmn\n",
    "from nlg import templates as tmpl\n",
    "from nlg import utils"
   ]
  },
  {
   "cell_type": "code",
   "execution_count": 8,
   "metadata": {},
   "outputs": [],
   "source": [
    "reload(tmpl)\n",
    "reload(utils)\n",
    "N = tmpl.Narrative"
   ]
  },
  {
   "cell_type": "code",
   "execution_count": 9,
   "metadata": {},
   "outputs": [
    {
     "data": {
      "text/html": [
       "<div>\n",
       "<style scoped>\n",
       "    .dataframe tbody tr th:only-of-type {\n",
       "        vertical-align: middle;\n",
       "    }\n",
       "\n",
       "    .dataframe tbody tr th {\n",
       "        vertical-align: top;\n",
       "    }\n",
       "\n",
       "    .dataframe thead th {\n",
       "        text-align: right;\n",
       "    }\n",
       "</style>\n",
       "<table border=\"1\" class=\"dataframe\">\n",
       "  <thead>\n",
       "    <tr style=\"text-align: right;\">\n",
       "      <th></th>\n",
       "      <th>project</th>\n",
       "      <th>this_week</th>\n",
       "      <th>last_week</th>\n",
       "    </tr>\n",
       "  </thead>\n",
       "  <tbody>\n",
       "    <tr>\n",
       "      <th>0</th>\n",
       "      <td>Dell</td>\n",
       "      <td>0.171865</td>\n",
       "      <td>0.968536</td>\n",
       "    </tr>\n",
       "    <tr>\n",
       "      <th>1</th>\n",
       "      <td>Ambit</td>\n",
       "      <td>0.787290</td>\n",
       "      <td>0.015637</td>\n",
       "    </tr>\n",
       "    <tr>\n",
       "      <th>2</th>\n",
       "      <td>Star</td>\n",
       "      <td>0.383144</td>\n",
       "      <td>0.327020</td>\n",
       "    </tr>\n",
       "  </tbody>\n",
       "</table>\n",
       "</div>"
      ],
      "text/plain": [
       "  project  this_week  last_week\n",
       "0    Dell   0.171865   0.968536\n",
       "1   Ambit   0.787290   0.015637\n",
       "2    Star   0.383144   0.327020"
      ]
     },
     "execution_count": 9,
     "metadata": {},
     "output_type": "execute_result"
    }
   ],
   "source": [
    "df = pd.DataFrame.from_dict({'project': ['Dell', 'Ambit', 'Star']})\n",
    "df['this_week'] = np.random.rand(3,)\n",
    "df['last_week'] = np.random.rand(3,)\n",
    "df.head()"
   ]
  },
  {
   "cell_type": "code",
   "execution_count": 10,
   "metadata": {},
   "outputs": [],
   "source": [
    "bit = lambda x, y: abs((x - y) / x) > 0.1\n",
    "lot = lambda x, y: abs((x - y) / x) > 0.33\n",
    "compare = lambda x, y: utils.humanize_comparison(x, y, bit, lot)"
   ]
  },
  {
   "cell_type": "code",
   "execution_count": 12,
   "metadata": {},
   "outputs": [
    {
     "name": "stdout",
     "output_type": "stream",
     "text": [
      "\n",
      "Anand,\n",
      "    6 days ago,\n",
      "    you worked on  Dell, Ambit and Star projects.\n",
      "     These projects took 134.229926% of your time.\n",
      "    \n",
      "    \n",
      "        1. The time spent on Dell this week is a lot higher\n",
      "    \n",
      "        2. The time spent on Ambit this week is much less\n",
      "    \n",
      "        3. The time spent on Star this week is a little less\n",
      "    \n",
      "\n"
     ]
    }
   ],
   "source": [
    "t = '''\n",
    "{{ name }},\n",
    "    {{ humanize.naturaltime(last_ts).capitalize() }},\n",
    "    you worked on {% if len(df) == 1 %}the{% end %} {{ utils.concatenate_items(df['project']) }} {{ utils.pluralize_by_seq('project', by=df['project']) }}.\n",
    "    {% if len(df) == 1 %}This project {% else %} These projects{% end %} took {{ '{x:%}'.format(x=time_pc) }} of your time.\n",
    "    \n",
    "    {% for prj in range((len(df))) %}\n",
    "        {{prj + 1}}. The time spent on {{ df['project'][prj] }} this week is {{ compare(df['last_week'][prj], df['this_week'][prj]) }}\n",
    "    {% end %}\n",
    "'''\n",
    "last_ts = datetime.now() - timedelta(days=6)\n",
    "print(N(t, tornado_tmpl=True, name='Anand', humanize=hmn, last_ts=last_ts, utils=utils, df=df,\n",
    "        compare=compare, time_pc=df['this_week'].sum()).render().decode('utf-8'))"
   ]
  },
  {
   "cell_type": "code",
   "execution_count": null,
   "metadata": {},
   "outputs": [],
   "source": []
  }
 ],
 "metadata": {
  "kernelspec": {
   "display_name": "Python 3",
   "language": "python",
   "name": "python3"
  },
  "language_info": {
   "codemirror_mode": {
    "name": "ipython",
    "version": 3
   },
   "file_extension": ".py",
   "mimetype": "text/x-python",
   "name": "python",
   "nbconvert_exporter": "python",
   "pygments_lexer": "ipython3",
   "version": "3.6.3"
  }
 },
 "nbformat": 4,
 "nbformat_minor": 2
}
