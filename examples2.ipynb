{
 "cells": [
  {
   "cell_type": "code",
   "execution_count": 1,
   "metadata": {},
   "outputs": [
    {
     "data": {
      "text/html": [
       "<div>\n",
       "<style scoped>\n",
       "    .dataframe tbody tr th:only-of-type {\n",
       "        vertical-align: middle;\n",
       "    }\n",
       "\n",
       "    .dataframe tbody tr th {\n",
       "        vertical-align: top;\n",
       "    }\n",
       "\n",
       "    .dataframe thead th {\n",
       "        text-align: right;\n",
       "    }\n",
       "</style>\n",
       "<table border=\"1\" class=\"dataframe\">\n",
       "  <thead>\n",
       "    <tr style=\"text-align: right;\">\n",
       "      <th></th>\n",
       "      <th>Year</th>\n",
       "      <th>State</th>\n",
       "      <th>AC</th>\n",
       "      <th>Party</th>\n",
       "      <th>Vote share</th>\n",
       "    </tr>\n",
       "  </thead>\n",
       "  <tbody>\n",
       "    <tr>\n",
       "      <th>0</th>\n",
       "      <td>2013</td>\n",
       "      <td>Rajasthan</td>\n",
       "      <td>Jaisalmer</td>\n",
       "      <td>BJP</td>\n",
       "      <td>24.0</td>\n",
       "    </tr>\n",
       "    <tr>\n",
       "      <th>1</th>\n",
       "      <td>2013</td>\n",
       "      <td>Rajasthan</td>\n",
       "      <td>Jaipur</td>\n",
       "      <td>BJP</td>\n",
       "      <td>22.0</td>\n",
       "    </tr>\n",
       "    <tr>\n",
       "      <th>2</th>\n",
       "      <td>2013</td>\n",
       "      <td>Rajasthan</td>\n",
       "      <td>Jodhpur</td>\n",
       "      <td>BJP</td>\n",
       "      <td>20.0</td>\n",
       "    </tr>\n",
       "  </tbody>\n",
       "</table>\n",
       "</div>"
      ],
      "text/plain": [
       "   Year      State         AC Party  Vote share\n",
       "0  2013  Rajasthan  Jaisalmer   BJP        24.0\n",
       "1  2013  Rajasthan     Jaipur   BJP        22.0\n",
       "2  2013  Rajasthan    Jodhpur   BJP        20.0"
      ]
     },
     "execution_count": 1,
     "metadata": {},
     "output_type": "execute_result"
    }
   ],
   "source": [
    "import pandas as pd\n",
    "from importlib import reload\n",
    "df = pd.read_csv('data/assembly.csv')\n",
    "df['Vote share (%)'] = df.pop('Vote share').str.rstrip('%').astype(float)\n",
    "df.head()"
   ]
  },
  {
   "cell_type": "code",
   "execution_count": 13,
   "metadata": {},
   "outputs": [
    {
     "data": {
      "text/plain": [
       "0    BJP\n",
       "dtype: object"
      ]
     },
     "execution_count": 13,
     "metadata": {},
     "output_type": "execute_result"
    }
   ],
   "source": [
    "df['Party'].mode()"
   ]
  },
  {
   "cell_type": "code",
   "execution_count": 2,
   "metadata": {},
   "outputs": [],
   "source": [
    "# What extremes do we see?\n",
    "# BJP won the largest voteshare in Jaisalmer\n",
    "\n",
    "# What comparisons do we see?\n",
    "# BJP voteshare is 4% higherin Jaisalmer than in Jodhpur"
   ]
  },
  {
   "cell_type": "code",
   "execution_count": 34,
   "metadata": {},
   "outputs": [],
   "source": [
    "# extremes structure\n",
    "struct = {\n",
    "    'intent': 'extreme',\n",
    "    'data': df,\n",
    "    'metadata': {\n",
    "        'subject': 'BJP', # literal subject\n",
    "        'verb': ['won', 'scored', 'achieved'],\n",
    "        'adjective': ['highest', 'greatest', 'most', 'largest'],\n",
    "        'object': {\n",
    "            'template': 'vote share of {value} in {location}',\n",
    "            'kwargs': {\n",
    "                'location': {\n",
    "                    '_type': 'cell',\n",
    "                    'colname': 'AC',\n",
    "                    '_filter': {'colname': 'Vote share', 'filter': 'max'}\n",
    "                },\n",
    "                'value': {\n",
    "                    '_type': 'cell',\n",
    "                    'colname': 'Vote share',\n",
    "                    '_filter': 'max'\n",
    "                }\n",
    "            }\n",
    "        }\n",
    "    }\n",
    "}"
   ]
  },
  {
   "cell_type": "code",
   "execution_count": 4,
   "metadata": {},
   "outputs": [],
   "source": [
    "from nlg import templates as tmpl"
   ]
  },
  {
   "cell_type": "code",
   "execution_count": 44,
   "metadata": {},
   "outputs": [
    {
     "data": {
      "text/plain": [
       "<module 'nlg.templates' from '/home/jaidevd/src/nlg/nlg/templates.py'>"
      ]
     },
     "execution_count": 44,
     "metadata": {},
     "output_type": "execute_result"
    }
   ],
   "source": [
    "reload(tmpl)"
   ]
  },
  {
   "cell_type": "code",
   "execution_count": 45,
   "metadata": {},
   "outputs": [],
   "source": [
    "n = tmpl.Narrative(struct)\n",
    "n.render()"
   ]
  },
  {
   "cell_type": "code",
   "execution_count": 46,
   "metadata": {},
   "outputs": [
    {
     "data": {
      "text/plain": [
       "'BJP won the highest vote share of 24.0 in Jaisalmer.'"
      ]
     },
     "execution_count": 46,
     "metadata": {},
     "output_type": "execute_result"
    }
   ],
   "source": []
  },
  {
   "cell_type": "code",
   "execution_count": 50,
   "metadata": {},
   "outputs": [
    {
     "data": {
      "text/html": [
       "<div>\n",
       "<style scoped>\n",
       "    .dataframe tbody tr th:only-of-type {\n",
       "        vertical-align: middle;\n",
       "    }\n",
       "\n",
       "    .dataframe tbody tr th {\n",
       "        vertical-align: top;\n",
       "    }\n",
       "\n",
       "    .dataframe thead th {\n",
       "        text-align: right;\n",
       "    }\n",
       "</style>\n",
       "<table border=\"1\" class=\"dataframe\">\n",
       "  <thead>\n",
       "    <tr style=\"text-align: right;\">\n",
       "      <th></th>\n",
       "      <th>n_songs</th>\n",
       "      <th>partner</th>\n",
       "      <th>singer</th>\n",
       "    </tr>\n",
       "  </thead>\n",
       "  <tbody>\n",
       "    <tr>\n",
       "      <th>0</th>\n",
       "      <td>20</td>\n",
       "      <td>Lata</td>\n",
       "      <td>Kishore</td>\n",
       "    </tr>\n",
       "    <tr>\n",
       "      <th>1</th>\n",
       "      <td>5</td>\n",
       "      <td>Asha</td>\n",
       "      <td>Kishore</td>\n",
       "    </tr>\n",
       "    <tr>\n",
       "      <th>2</th>\n",
       "      <td>15</td>\n",
       "      <td>Rafi</td>\n",
       "      <td>Kishore</td>\n",
       "    </tr>\n",
       "  </tbody>\n",
       "</table>\n",
       "</div>"
      ],
      "text/plain": [
       "   n_songs partner   singer\n",
       "0       20    Lata  Kishore\n",
       "1        5    Asha  Kishore\n",
       "2       15    Rafi  Kishore"
      ]
     },
     "execution_count": 50,
     "metadata": {},
     "output_type": "execute_result"
    }
   ],
   "source": [
    "df = pd.DataFrame.from_dict({\n",
    "    'singer': ['Kishore', 'Kishore', 'Kishore'],\n",
    "    'partner': ['Lata', 'Asha', 'Rafi'],\n",
    "    'n_songs': [20, 5, 15]\n",
    "})\n",
    "df.head()"
   ]
  },
  {
   "cell_type": "code",
   "execution_count": 52,
   "metadata": {},
   "outputs": [],
   "source": [
    "# Kishore sang the most duets with Lata\n",
    "struct = {\n",
    "    'intent': 'extreme',\n",
    "    'data': df,\n",
    "    'metadata': {\n",
    "        'subject': {  # inferred subject\n",
    "            '_type': 'cell',\n",
    "            'colname': 'singer',\n",
    "            '_filter': 'mode'\n",
    "        },\n",
    "        'verb': 'sang',\n",
    "        'adjective': 'most',\n",
    "        'object': {\n",
    "            'template': 'with {partner}',\n",
    "            'kwargs': {\n",
    "                'partner': {\n",
    "                    '_type': 'cell',\n",
    "                    'colname': 'partner',\n",
    "                    '_filter': {'colname': 'n_songs', 'filter': 'max'}\n",
    "                }\n",
    "            }\n",
    "        }\n",
    "    }\n",
    "}"
   ]
  },
  {
   "cell_type": "code",
   "execution_count": 53,
   "metadata": {},
   "outputs": [
    {
     "data": {
      "text/plain": [
       "'with Lata'"
      ]
     },
     "execution_count": 53,
     "metadata": {},
     "output_type": "execute_result"
    }
   ],
   "source": [
    "n = tmpl.Narrative(struct)\n",
    "n.object"
   ]
  },
  {
   "cell_type": "code",
   "execution_count": null,
   "metadata": {},
   "outputs": [],
   "source": []
  }
 ],
 "metadata": {
  "kernelspec": {
   "display_name": "Python 3",
   "language": "python",
   "name": "python3"
  },
  "language_info": {
   "codemirror_mode": {
    "name": "ipython",
    "version": 3
   },
   "file_extension": ".py",
   "mimetype": "text/x-python",
   "name": "python",
   "nbconvert_exporter": "python",
   "pygments_lexer": "ipython3",
   "version": "3.6.3"
  }
 },
 "nbformat": 4,
 "nbformat_minor": 2
}
