{
 "cells": [
  {
   "cell_type": "code",
   "execution_count": 1,
   "metadata": {},
   "outputs": [
    {
     "data": {
      "text/html": [
       "<div>\n",
       "<style scoped>\n",
       "    .dataframe tbody tr th:only-of-type {\n",
       "        vertical-align: middle;\n",
       "    }\n",
       "\n",
       "    .dataframe tbody tr th {\n",
       "        vertical-align: top;\n",
       "    }\n",
       "\n",
       "    .dataframe thead th {\n",
       "        text-align: right;\n",
       "    }\n",
       "</style>\n",
       "<table border=\"1\" class=\"dataframe\">\n",
       "  <thead>\n",
       "    <tr style=\"text-align: right;\">\n",
       "      <th></th>\n",
       "      <th>Year</th>\n",
       "      <th>State</th>\n",
       "      <th>AC</th>\n",
       "      <th>Party</th>\n",
       "      <th>Vote share (%)</th>\n",
       "    </tr>\n",
       "  </thead>\n",
       "  <tbody>\n",
       "    <tr>\n",
       "      <th>0</th>\n",
       "      <td>2013</td>\n",
       "      <td>Rajasthan</td>\n",
       "      <td>Jaisalmer</td>\n",
       "      <td>BJP</td>\n",
       "      <td>24.0</td>\n",
       "    </tr>\n",
       "    <tr>\n",
       "      <th>1</th>\n",
       "      <td>2013</td>\n",
       "      <td>Rajasthan</td>\n",
       "      <td>Jaipur</td>\n",
       "      <td>BJP</td>\n",
       "      <td>22.0</td>\n",
       "    </tr>\n",
       "    <tr>\n",
       "      <th>2</th>\n",
       "      <td>2013</td>\n",
       "      <td>Rajasthan</td>\n",
       "      <td>Jodhpur</td>\n",
       "      <td>BJP</td>\n",
       "      <td>20.0</td>\n",
       "    </tr>\n",
       "  </tbody>\n",
       "</table>\n",
       "</div>"
      ],
      "text/plain": [
       "   Year      State         AC Party  Vote share (%)\n",
       "0  2013  Rajasthan  Jaisalmer   BJP            24.0\n",
       "1  2013  Rajasthan     Jaipur   BJP            22.0\n",
       "2  2013  Rajasthan    Jodhpur   BJP            20.0"
      ]
     },
     "execution_count": 1,
     "metadata": {},
     "output_type": "execute_result"
    }
   ],
   "source": [
    "import pandas as pd\n",
    "from importlib import reload\n",
    "from nlg import templates as tmpl\n",
    "df = pd.read_csv('data/assembly.csv')\n",
    "df['Vote share (%)'] = df.pop('Vote share').str.rstrip('%').astype(float)\n",
    "df.head()"
   ]
  },
  {
   "cell_type": "code",
   "execution_count": 2,
   "metadata": {},
   "outputs": [],
   "source": [
    "# BJP won the largest voteshare in Jaisalmer\n",
    "struct = {\n",
    "    'intent': 'extreme',\n",
    "    'data': df,\n",
    "    'metadata': {\n",
    "        'subject': 'BJP', # literal subject\n",
    "        'verb': ['won', 'scored', 'achieved'],\n",
    "        'adjective': ['highest', 'greatest', 'most', 'largest'],\n",
    "        'object': {\n",
    "            'template': 'vote share of {value} in {location}',\n",
    "            'location': {\n",
    "                '_type': 'cell',\n",
    "                'colname': 'AC',\n",
    "                '_filter': {'colname': 'Vote share (%)', 'filter': 'max'}\n",
    "            },\n",
    "            'value': {\n",
    "                '_type': 'cell',\n",
    "                'colname': 'Vote share (%)',\n",
    "                '_filter': 'max'\n",
    "            }\n",
    "            \n",
    "        }\n",
    "    }\n",
    "}"
   ]
  },
  {
   "cell_type": "code",
   "execution_count": 3,
   "metadata": {},
   "outputs": [
    {
     "data": {
      "text/plain": [
       "'BJP achieved the greatest vote share of 24.0 in Jaisalmer.'"
      ]
     },
     "execution_count": 3,
     "metadata": {},
     "output_type": "execute_result"
    }
   ],
   "source": [
    "tmpl.Narrative(struct).render()"
   ]
  },
  {
   "cell_type": "code",
   "execution_count": 4,
   "metadata": {},
   "outputs": [
    {
     "data": {
      "text/plain": [
       "<module 'nlg.templates' from '/home/jaidevd/src/nlg/nlg/templates.py'>"
      ]
     },
     "execution_count": 4,
     "metadata": {},
     "output_type": "execute_result"
    }
   ],
   "source": [
    "reload(tmpl)"
   ]
  },
  {
   "cell_type": "code",
   "execution_count": 5,
   "metadata": {},
   "outputs": [
    {
     "data": {
      "text/plain": [
       "'BJP achieved the highest vote share of 24.0 in Jaisalmer.'"
      ]
     },
     "execution_count": 5,
     "metadata": {},
     "output_type": "execute_result"
    }
   ],
   "source": [
    "struct = {\n",
    "    'intent': 'extreme',\n",
    "    'data': df,\n",
    "    'metadata': {\n",
    "        'subject': 'BJP', # literal subject\n",
    "        'verb': ['won', 'scored', 'achieved'],\n",
    "        'adjective': ['highest', 'greatest', 'most', 'largest'],\n",
    "        'object': {\n",
    "            'template': 'vote share of {value} in {location}',\n",
    "            'location': {\n",
    "                '_type': 'cell',\n",
    "                'colname': 'AC',\n",
    "                '_filter': 'max(Vote share (%))'\n",
    "            },\n",
    "            'value': {\n",
    "                '_type': 'cell',\n",
    "                'colname': 'Vote share (%)',\n",
    "                '_filter': 'max'\n",
    "            }\n",
    "            \n",
    "        }\n",
    "    }\n",
    "}\n",
    "tmpl.Narrative(struct).render()"
   ]
  },
  {
   "cell_type": "code",
   "execution_count": 6,
   "metadata": {},
   "outputs": [
    {
     "data": {
      "text/html": [
       "<div>\n",
       "<style scoped>\n",
       "    .dataframe tbody tr th:only-of-type {\n",
       "        vertical-align: middle;\n",
       "    }\n",
       "\n",
       "    .dataframe tbody tr th {\n",
       "        vertical-align: top;\n",
       "    }\n",
       "\n",
       "    .dataframe thead th {\n",
       "        text-align: right;\n",
       "    }\n",
       "</style>\n",
       "<table border=\"1\" class=\"dataframe\">\n",
       "  <thead>\n",
       "    <tr style=\"text-align: right;\">\n",
       "      <th></th>\n",
       "      <th>n_songs</th>\n",
       "      <th>partner</th>\n",
       "      <th>singer</th>\n",
       "    </tr>\n",
       "  </thead>\n",
       "  <tbody>\n",
       "    <tr>\n",
       "      <th>0</th>\n",
       "      <td>20</td>\n",
       "      <td>Lata</td>\n",
       "      <td>Kishore</td>\n",
       "    </tr>\n",
       "    <tr>\n",
       "      <th>1</th>\n",
       "      <td>5</td>\n",
       "      <td>Asha</td>\n",
       "      <td>Kishore</td>\n",
       "    </tr>\n",
       "    <tr>\n",
       "      <th>2</th>\n",
       "      <td>15</td>\n",
       "      <td>Rafi</td>\n",
       "      <td>Kishore</td>\n",
       "    </tr>\n",
       "  </tbody>\n",
       "</table>\n",
       "</div>"
      ],
      "text/plain": [
       "   n_songs partner   singer\n",
       "0       20    Lata  Kishore\n",
       "1        5    Asha  Kishore\n",
       "2       15    Rafi  Kishore"
      ]
     },
     "execution_count": 6,
     "metadata": {},
     "output_type": "execute_result"
    }
   ],
   "source": [
    "df = pd.DataFrame.from_dict({\n",
    "    'singer': ['Kishore', 'Kishore', 'Kishore'],\n",
    "    'partner': ['Lata', 'Asha', 'Rafi'],\n",
    "    'n_songs': [20, 5, 15]\n",
    "})\n",
    "df.head()"
   ]
  },
  {
   "cell_type": "code",
   "execution_count": 7,
   "metadata": {},
   "outputs": [],
   "source": [
    "# Kishore sang the most duets with Lata\n",
    "struct = {\n",
    "    'intent': 'extreme',\n",
    "    'data': df,\n",
    "    'metadata': {\n",
    "        'subject': {  # inferred subject\n",
    "            '_type': 'cell',\n",
    "            'colname': 'singer',\n",
    "            '_filter': 'mode'\n",
    "        },\n",
    "        'verb': 'sang',\n",
    "        'adjective': 'most',\n",
    "        'object': {\n",
    "            'template': 'duets with {partner}',\n",
    "            'partner': {\n",
    "                '_type': 'cell',\n",
    "                'colname': 'partner',\n",
    "                '_filter': {'colname': 'n_songs', 'filter': 'max'}\n",
    "            }\n",
    "        }\n",
    "    }\n",
    "}"
   ]
  },
  {
   "cell_type": "code",
   "execution_count": 8,
   "metadata": {},
   "outputs": [
    {
     "data": {
      "text/plain": [
       "'Kishore sang the most duets with Lata.'"
      ]
     },
     "execution_count": 8,
     "metadata": {},
     "output_type": "execute_result"
    }
   ],
   "source": [
    "tmpl.Narrative(struct).render()"
   ]
  },
  {
   "cell_type": "code",
   "execution_count": 9,
   "metadata": {},
   "outputs": [
    {
     "data": {
      "text/plain": [
       "'Kishore sang the most duets with Lata.'"
      ]
     },
     "execution_count": 9,
     "metadata": {},
     "output_type": "execute_result"
    }
   ],
   "source": [
    "# Kishore sang the most duets with Lata\n",
    "struct = {\n",
    "    'intent': 'extreme',\n",
    "    'data': df,\n",
    "    'metadata': {\n",
    "        'subject': {  # inferred subject\n",
    "            '_type': 'cell',\n",
    "            'colname': 'singer',\n",
    "            '_filter': 'mode'\n",
    "        },\n",
    "        'verb': 'sang',\n",
    "        'adjective': 'most',\n",
    "        'object': {\n",
    "            'template': 'duets with {partner}',\n",
    "            'partner': {\n",
    "                '_type': 'cell',\n",
    "                'colname': 'partner',\n",
    "                '_filter': 'max(n_songs)'\n",
    "            }\n",
    "        }\n",
    "    }\n",
    "}\n",
    "tmpl.Narrative(struct).render()"
   ]
  },
  {
   "cell_type": "code",
   "execution_count": 10,
   "metadata": {},
   "outputs": [
    {
     "data": {
      "text/html": [
       "<div>\n",
       "<style scoped>\n",
       "    .dataframe tbody tr th:only-of-type {\n",
       "        vertical-align: middle;\n",
       "    }\n",
       "\n",
       "    .dataframe tbody tr th {\n",
       "        vertical-align: top;\n",
       "    }\n",
       "\n",
       "    .dataframe thead th {\n",
       "        text-align: right;\n",
       "    }\n",
       "</style>\n",
       "<table border=\"1\" class=\"dataframe\">\n",
       "  <thead>\n",
       "    <tr style=\"text-align: right;\">\n",
       "      <th></th>\n",
       "      <th>character</th>\n",
       "      <th>n_episodes</th>\n",
       "      <th>time_per_episode</th>\n",
       "    </tr>\n",
       "  </thead>\n",
       "  <tbody>\n",
       "    <tr>\n",
       "      <th>0</th>\n",
       "      <td>Eddard Stark</td>\n",
       "      <td>10</td>\n",
       "      <td>6.2</td>\n",
       "    </tr>\n",
       "    <tr>\n",
       "      <th>1</th>\n",
       "      <td>Jon Snow</td>\n",
       "      <td>56</td>\n",
       "      <td>5.5</td>\n",
       "    </tr>\n",
       "  </tbody>\n",
       "</table>\n",
       "</div>"
      ],
      "text/plain": [
       "      character  n_episodes  time_per_episode\n",
       "0  Eddard Stark          10               6.2\n",
       "1      Jon Snow          56               5.5"
      ]
     },
     "execution_count": 10,
     "metadata": {},
     "output_type": "execute_result"
    }
   ],
   "source": [
    "df = pd.DataFrame.from_dict({\n",
    "    'character': ['Eddard Stark', 'Jon Snow'],\n",
    "    'n_episodes': [10, 56],\n",
    "    'time_per_episode': [6.2, 5.5]\n",
    "})\n",
    "df.head()"
   ]
  },
  {
   "cell_type": "code",
   "execution_count": 11,
   "metadata": {},
   "outputs": [
    {
     "data": {
      "text/plain": [
       "\"Eddard Stark's screen time per episode is 0.7000000000000002 minutes more than that of Jon Snow.\""
      ]
     },
     "execution_count": 11,
     "metadata": {},
     "output_type": "execute_result"
    }
   ],
   "source": [
    "# Ned Stark's screen time is 0.7 minutes greater than that of Jon Snow.\n",
    "struct = {\n",
    "    'intent': 'comparison',\n",
    "    'data': df,\n",
    "    'metadata': {\n",
    "        'subject': {\n",
    "            'template': '{character}\\'s screen time per episode',\n",
    "            'character': {\n",
    "                '_type': 'cell',\n",
    "                'colname': 'character',\n",
    "                '_filter': {'colname': 'time_per_episode', 'filter': 'max'}\n",
    "            }            \n",
    "        },\n",
    "        'verb': 'is',\n",
    "        'quant': {\n",
    "            'template': '{q} minutes',\n",
    "            'q': {\n",
    "                '_type': 'operation',\n",
    "                'expr': '{data.iloc[0].time_per_episode} - {data.iloc[1].time_per_episode}'\n",
    "            }\n",
    "        },\n",
    "        'adjective': 'more',\n",
    "        'object': {\n",
    "            'template': 'that of {character}',\n",
    "            'character': {\n",
    "                '_type': 'cell',\n",
    "                'colname': 'character',\n",
    "                '_filter': {'colname': 'time_per_episode', 'filter': 'min'}\n",
    "            }\n",
    "        }\n",
    "    }\n",
    "}\n",
    "tmpl.Narrative(struct).render()"
   ]
  },
  {
   "cell_type": "code",
   "execution_count": 12,
   "metadata": {},
   "outputs": [
    {
     "data": {
      "text/plain": [
       "\"Eddard Stark's screen time per episode is 0.7000000000000002 minutes more than that of Jon Snow.\""
      ]
     },
     "execution_count": 12,
     "metadata": {},
     "output_type": "execute_result"
    }
   ],
   "source": [
    "# Ned Stark's screen time is 0.7 minutes greater than that of Jon Snow.\n",
    "struct = {\n",
    "    'intent': 'comparison',\n",
    "    'data': df,\n",
    "    'metadata': {\n",
    "        'subject': {\n",
    "            'template': '{character}\\'s screen time per episode',\n",
    "            'character': {\n",
    "                '_type': 'cell',\n",
    "                'colname': 'character',\n",
    "                '_filter': 'max(time_per_episode)'\n",
    "            }            \n",
    "        },\n",
    "        'verb': 'is',\n",
    "        'quant': {\n",
    "            'template': '{q} minutes',\n",
    "            'q': {\n",
    "                '_type': 'operation',\n",
    "                'expr': '{data.iloc[0].time_per_episode} - {data.iloc[1].time_per_episode}'\n",
    "            }\n",
    "        },\n",
    "        'adjective': 'more',\n",
    "        'object': {\n",
    "            'template': 'that of {character}',\n",
    "            'character': {\n",
    "                '_type': 'cell',\n",
    "                'colname': 'character',\n",
    "                '_filter': 'min(time_per_episode)'\n",
    "            }\n",
    "        }\n",
    "    }\n",
    "}\n",
    "tmpl.Narrative(struct).render()"
   ]
  },
  {
   "cell_type": "code",
   "execution_count": 13,
   "metadata": {},
   "outputs": [
    {
     "data": {
      "text/html": [
       "<div>\n",
       "<style scoped>\n",
       "    .dataframe tbody tr th:only-of-type {\n",
       "        vertical-align: middle;\n",
       "    }\n",
       "\n",
       "    .dataframe tbody tr th {\n",
       "        vertical-align: top;\n",
       "    }\n",
       "\n",
       "    .dataframe thead th {\n",
       "        text-align: right;\n",
       "    }\n",
       "</style>\n",
       "<table border=\"1\" class=\"dataframe\">\n",
       "  <thead>\n",
       "    <tr style=\"text-align: right;\">\n",
       "      <th></th>\n",
       "      <th>Year</th>\n",
       "      <th>State</th>\n",
       "      <th>AC</th>\n",
       "      <th>Party</th>\n",
       "      <th>vote_share</th>\n",
       "    </tr>\n",
       "  </thead>\n",
       "  <tbody>\n",
       "    <tr>\n",
       "      <th>0</th>\n",
       "      <td>2013</td>\n",
       "      <td>Rajasthan</td>\n",
       "      <td>Jaisalmer</td>\n",
       "      <td>BJP</td>\n",
       "      <td>24.0</td>\n",
       "    </tr>\n",
       "    <tr>\n",
       "      <th>1</th>\n",
       "      <td>2013</td>\n",
       "      <td>Rajasthan</td>\n",
       "      <td>Jaipur</td>\n",
       "      <td>BJP</td>\n",
       "      <td>22.0</td>\n",
       "    </tr>\n",
       "    <tr>\n",
       "      <th>2</th>\n",
       "      <td>2013</td>\n",
       "      <td>Rajasthan</td>\n",
       "      <td>Jodhpur</td>\n",
       "      <td>BJP</td>\n",
       "      <td>20.0</td>\n",
       "    </tr>\n",
       "  </tbody>\n",
       "</table>\n",
       "</div>"
      ],
      "text/plain": [
       "   Year      State         AC Party  vote_share\n",
       "0  2013  Rajasthan  Jaisalmer   BJP        24.0\n",
       "1  2013  Rajasthan     Jaipur   BJP        22.0\n",
       "2  2013  Rajasthan    Jodhpur   BJP        20.0"
      ]
     },
     "execution_count": 13,
     "metadata": {},
     "output_type": "execute_result"
    }
   ],
   "source": [
    "df = pd.read_csv('data/assembly.csv')\n",
    "df['vote_share'] = df.pop('Vote share').str.rstrip('%').astype(float)\n",
    "df.head()"
   ]
  },
  {
   "cell_type": "code",
   "execution_count": 14,
   "metadata": {},
   "outputs": [],
   "source": [
    "# BJP voteshare is 4% higher in Jaisalmer than in Jodhpur\n",
    "struct = {\n",
    "    'intent': 'comparison',\n",
    "    'data': df,\n",
    "    'metadata': {\n",
    "        'subject': {\n",
    "            'template': '{party}\\'s voteshare',\n",
    "            'kwargs': {\n",
    "                'party': {\n",
    "                    '_type': 'cell',\n",
    "                    'colname': 'Party',\n",
    "                    '_filter': 'mode'\n",
    "                }\n",
    "            }\n",
    "        },\n",
    "        'verb': 'is',\n",
    "        'quant': {\n",
    "            'template': '{q}%',\n",
    "            'kwargs': {\n",
    "                'q': {\n",
    "                    '_type': 'operation',\n",
    "                    'expr': '{data.iloc[0].vote_share}-{data.iloc[2].vote_share}'\n",
    "                }\n",
    "            }\n",
    "        },\n",
    "        'adjective': ['higher', 'greater', 'more'],\n",
    "        'object': {\n",
    "            'template': 'in {x} than in {y}',\n",
    "            'kwargs': {\n",
    "                'x': {\n",
    "                    '_type': 'cell',\n",
    "                    'colname': 'AC',\n",
    "                    '_filter': 'max(vote_share)'\n",
    "                },\n",
    "                'y': {\n",
    "                    '_type': 'cell',\n",
    "                    'colname': 'AC',\n",
    "                    '_filter': 'min(vote_share)'\n",
    "                }\n",
    "            }\n",
    "        }\n",
    "    }\n",
    "}"
   ]
  },
  {
   "cell_type": "code",
   "execution_count": 15,
   "metadata": {},
   "outputs": [
    {
     "data": {
      "text/plain": [
       "\"BJP's voteshare is 4.0% greater than in Jaisalmer than in Jodhpur.\""
      ]
     },
     "execution_count": 15,
     "metadata": {},
     "output_type": "execute_result"
    }
   ],
   "source": [
    "tmpl.Narrative(struct).render()"
   ]
  },
  {
   "cell_type": "code",
   "execution_count": 16,
   "metadata": {},
   "outputs": [
    {
     "data": {
      "text/html": [
       "<div>\n",
       "<style scoped>\n",
       "    .dataframe tbody tr th:only-of-type {\n",
       "        vertical-align: middle;\n",
       "    }\n",
       "\n",
       "    .dataframe tbody tr th {\n",
       "        vertical-align: top;\n",
       "    }\n",
       "\n",
       "    .dataframe thead th {\n",
       "        text-align: right;\n",
       "    }\n",
       "</style>\n",
       "<table border=\"1\" class=\"dataframe\">\n",
       "  <thead>\n",
       "    <tr style=\"text-align: right;\">\n",
       "      <th></th>\n",
       "      <th>No_HH</th>\n",
       "      <th>TOT_P</th>\n",
       "      <th>TOT_M</th>\n",
       "      <th>TOT_F</th>\n",
       "      <th>P_06</th>\n",
       "      <th>M_06</th>\n",
       "      <th>F_06</th>\n",
       "      <th>P_SC</th>\n",
       "      <th>M_SC</th>\n",
       "      <th>F_SC</th>\n",
       "      <th>...</th>\n",
       "      <th>Jain_Persons</th>\n",
       "      <th>Jain_Males</th>\n",
       "      <th>Jain_Females</th>\n",
       "      <th>Others_Persons</th>\n",
       "      <th>Others_Males</th>\n",
       "      <th>Others_Females</th>\n",
       "      <th>Not_stated_Persons</th>\n",
       "      <th>Not_stated_Males</th>\n",
       "      <th>Not_stated_Females</th>\n",
       "      <th>State</th>\n",
       "    </tr>\n",
       "  </thead>\n",
       "  <tbody>\n",
       "    <tr>\n",
       "      <th>0</th>\n",
       "      <td>2.100498e+07</td>\n",
       "      <td>8.453546e+07</td>\n",
       "      <td>4.242007e+07</td>\n",
       "      <td>4.211539e+07</td>\n",
       "      <td>9.143177e+06</td>\n",
       "      <td>4.715144e+06</td>\n",
       "      <td>4.428032e+06</td>\n",
       "      <td>1.387786e+07</td>\n",
       "      <td>6.913126e+06</td>\n",
       "      <td>6.964732e+06</td>\n",
       "      <td>...</td>\n",
       "      <td>52966.194607</td>\n",
       "      <td>27013.641693</td>\n",
       "      <td>25952.552914</td>\n",
       "      <td>9278.049670</td>\n",
       "      <td>4680.048009</td>\n",
       "      <td>4598.001661</td>\n",
       "      <td>390785.859220</td>\n",
       "      <td>191025.532573</td>\n",
       "      <td>199760.326648</td>\n",
       "      <td>ANDHRA PRADESH</td>\n",
       "    </tr>\n",
       "    <tr>\n",
       "      <th>1</th>\n",
       "      <td>2.757233e+05</td>\n",
       "      <td>1.409241e+06</td>\n",
       "      <td>7.269595e+05</td>\n",
       "      <td>6.822814e+05</td>\n",
       "      <td>2.155685e+05</td>\n",
       "      <td>1.093564e+05</td>\n",
       "      <td>1.062121e+05</td>\n",
       "      <td>1.088643e+03</td>\n",
       "      <td>5.608952e+02</td>\n",
       "      <td>5.277475e+02</td>\n",
       "      <td>...</td>\n",
       "      <td>766.832342</td>\n",
       "      <td>368.998160</td>\n",
       "      <td>397.834182</td>\n",
       "      <td>361449.411807</td>\n",
       "      <td>179494.294708</td>\n",
       "      <td>181955.117099</td>\n",
       "      <td>6620.372634</td>\n",
       "      <td>3174.757448</td>\n",
       "      <td>3445.615186</td>\n",
       "      <td>ARUNACHAL PRADESH</td>\n",
       "    </tr>\n",
       "    <tr>\n",
       "      <th>2</th>\n",
       "      <td>6.386056e+06</td>\n",
       "      <td>3.110935e+07</td>\n",
       "      <td>1.589008e+07</td>\n",
       "      <td>1.521927e+07</td>\n",
       "      <td>4.624689e+06</td>\n",
       "      <td>2.356631e+06</td>\n",
       "      <td>2.268058e+06</td>\n",
       "      <td>2.231991e+06</td>\n",
       "      <td>1.145672e+06</td>\n",
       "      <td>1.086319e+06</td>\n",
       "      <td>...</td>\n",
       "      <td>25459.917823</td>\n",
       "      <td>13274.527145</td>\n",
       "      <td>12185.390678</td>\n",
       "      <td>26967.185050</td>\n",
       "      <td>13624.278689</td>\n",
       "      <td>13342.906362</td>\n",
       "      <td>49593.176984</td>\n",
       "      <td>24221.865608</td>\n",
       "      <td>25371.311376</td>\n",
       "      <td>ASSAM</td>\n",
       "    </tr>\n",
       "    <tr>\n",
       "      <th>3</th>\n",
       "      <td>1.890282e+07</td>\n",
       "      <td>1.040588e+08</td>\n",
       "      <td>5.425549e+07</td>\n",
       "      <td>4.980336e+07</td>\n",
       "      <td>1.911984e+07</td>\n",
       "      <td>9.880149e+06</td>\n",
       "      <td>9.239694e+06</td>\n",
       "      <td>1.657313e+07</td>\n",
       "      <td>8.609148e+06</td>\n",
       "      <td>7.963985e+06</td>\n",
       "      <td>...</td>\n",
       "      <td>18395.828249</td>\n",
       "      <td>9473.427035</td>\n",
       "      <td>8922.401214</td>\n",
       "      <td>11723.076269</td>\n",
       "      <td>5961.448357</td>\n",
       "      <td>5761.627913</td>\n",
       "      <td>240438.155506</td>\n",
       "      <td>124775.994703</td>\n",
       "      <td>115662.160803</td>\n",
       "      <td>BIHAR</td>\n",
       "    </tr>\n",
       "    <tr>\n",
       "      <th>4</th>\n",
       "      <td>5.651252e+06</td>\n",
       "      <td>2.554565e+07</td>\n",
       "      <td>1.283334e+07</td>\n",
       "      <td>1.271231e+07</td>\n",
       "      <td>3.661364e+06</td>\n",
       "      <td>1.859798e+06</td>\n",
       "      <td>1.801566e+06</td>\n",
       "      <td>3.277024e+06</td>\n",
       "      <td>1.643169e+06</td>\n",
       "      <td>1.633855e+06</td>\n",
       "      <td>...</td>\n",
       "      <td>60686.635207</td>\n",
       "      <td>31159.032669</td>\n",
       "      <td>29527.602538</td>\n",
       "      <td>491230.353095</td>\n",
       "      <td>242532.728103</td>\n",
       "      <td>248697.624993</td>\n",
       "      <td>21815.382525</td>\n",
       "      <td>10771.688151</td>\n",
       "      <td>11043.694375</td>\n",
       "      <td>CHHATTISGARH</td>\n",
       "    </tr>\n",
       "  </tbody>\n",
       "</table>\n",
       "<p>5 rows × 113 columns</p>\n",
       "</div>"
      ],
      "text/plain": [
       "          No_HH         TOT_P         TOT_M         TOT_F          P_06  \\\n",
       "0  2.100498e+07  8.453546e+07  4.242007e+07  4.211539e+07  9.143177e+06   \n",
       "1  2.757233e+05  1.409241e+06  7.269595e+05  6.822814e+05  2.155685e+05   \n",
       "2  6.386056e+06  3.110935e+07  1.589008e+07  1.521927e+07  4.624689e+06   \n",
       "3  1.890282e+07  1.040588e+08  5.425549e+07  4.980336e+07  1.911984e+07   \n",
       "4  5.651252e+06  2.554565e+07  1.283334e+07  1.271231e+07  3.661364e+06   \n",
       "\n",
       "           M_06          F_06          P_SC          M_SC          F_SC  \\\n",
       "0  4.715144e+06  4.428032e+06  1.387786e+07  6.913126e+06  6.964732e+06   \n",
       "1  1.093564e+05  1.062121e+05  1.088643e+03  5.608952e+02  5.277475e+02   \n",
       "2  2.356631e+06  2.268058e+06  2.231991e+06  1.145672e+06  1.086319e+06   \n",
       "3  9.880149e+06  9.239694e+06  1.657313e+07  8.609148e+06  7.963985e+06   \n",
       "4  1.859798e+06  1.801566e+06  3.277024e+06  1.643169e+06  1.633855e+06   \n",
       "\n",
       "         ...          Jain_Persons    Jain_Males  Jain_Females  \\\n",
       "0        ...          52966.194607  27013.641693  25952.552914   \n",
       "1        ...            766.832342    368.998160    397.834182   \n",
       "2        ...          25459.917823  13274.527145  12185.390678   \n",
       "3        ...          18395.828249   9473.427035   8922.401214   \n",
       "4        ...          60686.635207  31159.032669  29527.602538   \n",
       "\n",
       "   Others_Persons   Others_Males  Others_Females  Not_stated_Persons  \\\n",
       "0     9278.049670    4680.048009     4598.001661       390785.859220   \n",
       "1   361449.411807  179494.294708   181955.117099         6620.372634   \n",
       "2    26967.185050   13624.278689    13342.906362        49593.176984   \n",
       "3    11723.076269    5961.448357     5761.627913       240438.155506   \n",
       "4   491230.353095  242532.728103   248697.624993        21815.382525   \n",
       "\n",
       "   Not_stated_Males  Not_stated_Females              State  \n",
       "0     191025.532573       199760.326648     ANDHRA PRADESH  \n",
       "1       3174.757448         3445.615186  ARUNACHAL PRADESH  \n",
       "2      24221.865608        25371.311376              ASSAM  \n",
       "3     124775.994703       115662.160803              BIHAR  \n",
       "4      10771.688151        11043.694375       CHHATTISGARH  \n",
       "\n",
       "[5 rows x 113 columns]"
      ]
     },
     "execution_count": 16,
     "metadata": {},
     "output_type": "execute_result"
    }
   ],
   "source": [
    "df = pd.read_excel('/tmp/ac-census-summary.xlsx')\n",
    "xdf = df.groupby('State').sum()\n",
    "xdf['State'] = xdf.index.copy()\n",
    "xdf.index = range(xdf.shape[0])\n",
    "xdf.head()"
   ]
  },
  {
   "cell_type": "code",
   "execution_count": 17,
   "metadata": {},
   "outputs": [
    {
     "data": {
      "text/plain": [
       "'Jain population is the the highest in MAHARASHTRA.'"
      ]
     },
     "execution_count": 17,
     "metadata": {},
     "output_type": "execute_result"
    }
   ],
   "source": [
    "struct = {\n",
    "    'intent': 'extreme',\n",
    "    'data': xdf,\n",
    "    'metadata': {\n",
    "        'subject': 'Jain population',\n",
    "        'verb': 'is',\n",
    "        'adjective': 'the highest in',\n",
    "        'object': {\n",
    "            '_type': 'cell',\n",
    "            'colname': 'State',\n",
    "            '_filter': 'max(Jain_Persons)'\n",
    "        }\n",
    "    }\n",
    "}\n",
    "tmpl.Narrative(struct).render()"
   ]
  },
  {
   "cell_type": "code",
   "execution_count": 18,
   "metadata": {},
   "outputs": [
    {
     "data": {
      "text/plain": [
       "<module 'nlg.templates' from '/home/jaidevd/src/nlg/nlg/templates.py'>"
      ]
     },
     "execution_count": 18,
     "metadata": {},
     "output_type": "execute_result"
    }
   ],
   "source": [
    "reload(tmpl)"
   ]
  },
  {
   "cell_type": "code",
   "execution_count": 19,
   "metadata": {},
   "outputs": [
    {
     "data": {
      "text/plain": [
       "'Jain population is the highest in MAHARASHTRA.'"
      ]
     },
     "execution_count": 19,
     "metadata": {},
     "output_type": "execute_result"
    }
   ],
   "source": [
    "struct = {\n",
    "    'template': 'Jain population is the highest in {state}.',\n",
    "    'data': xdf,\n",
    "    'metadata': {\n",
    "        'state': {\n",
    "            '_type': 'cell',\n",
    "            'colname': 'State',\n",
    "            '_filter': 'max(Jain_Persons)'\n",
    "        }\n",
    "    }\n",
    "}\n",
    "tmpl.Narrative(struct).render()"
   ]
  },
  {
   "cell_type": "code",
   "execution_count": 20,
   "metadata": {},
   "outputs": [
    {
     "data": {
      "text/html": [
       "<div>\n",
       "<style scoped>\n",
       "    .dataframe tbody tr th:only-of-type {\n",
       "        vertical-align: middle;\n",
       "    }\n",
       "\n",
       "    .dataframe tbody tr th {\n",
       "        vertical-align: top;\n",
       "    }\n",
       "\n",
       "    .dataframe thead th {\n",
       "        text-align: right;\n",
       "    }\n",
       "</style>\n",
       "<table border=\"1\" class=\"dataframe\">\n",
       "  <thead>\n",
       "    <tr style=\"text-align: right;\">\n",
       "      <th></th>\n",
       "      <th>Year</th>\n",
       "      <th>State</th>\n",
       "      <th>AC</th>\n",
       "      <th>Party</th>\n",
       "      <th>vote_share</th>\n",
       "    </tr>\n",
       "  </thead>\n",
       "  <tbody>\n",
       "    <tr>\n",
       "      <th>0</th>\n",
       "      <td>2013</td>\n",
       "      <td>Rajasthan</td>\n",
       "      <td>Jaisalmer</td>\n",
       "      <td>BJP</td>\n",
       "      <td>24.0</td>\n",
       "    </tr>\n",
       "    <tr>\n",
       "      <th>1</th>\n",
       "      <td>2013</td>\n",
       "      <td>Rajasthan</td>\n",
       "      <td>Jaipur</td>\n",
       "      <td>BJP</td>\n",
       "      <td>22.0</td>\n",
       "    </tr>\n",
       "    <tr>\n",
       "      <th>2</th>\n",
       "      <td>2013</td>\n",
       "      <td>Rajasthan</td>\n",
       "      <td>Jodhpur</td>\n",
       "      <td>BJP</td>\n",
       "      <td>20.0</td>\n",
       "    </tr>\n",
       "  </tbody>\n",
       "</table>\n",
       "</div>"
      ],
      "text/plain": [
       "   Year      State         AC Party  vote_share\n",
       "0  2013  Rajasthan  Jaisalmer   BJP        24.0\n",
       "1  2013  Rajasthan     Jaipur   BJP        22.0\n",
       "2  2013  Rajasthan    Jodhpur   BJP        20.0"
      ]
     },
     "execution_count": 20,
     "metadata": {},
     "output_type": "execute_result"
    }
   ],
   "source": [
    "df = pd.read_csv('data/assembly.csv')\n",
    "df['vote_share'] = df.pop('Vote share').str.rstrip('%').astype(float)\n",
    "df.head()"
   ]
  },
  {
   "cell_type": "code",
   "execution_count": 21,
   "metadata": {},
   "outputs": [],
   "source": [
    "# BJP voteshare is 4% higher in Jaisalmer than in Jodhpur\n",
    "struct = {\n",
    "    'intent': 'comparison',\n",
    "    'data': df,\n",
    "    'metadata': {\n",
    "        'subject': {\n",
    "            'template': '{party}\\'s voteshare',\n",
    "            'party': {\n",
    "                '_type': 'cell',\n",
    "                'colname': 'Party',\n",
    "                '_filter': 'mode'\n",
    "            }\n",
    "        },\n",
    "        'verb': 'is',\n",
    "        'quant': {\n",
    "            'template': '{q}%',\n",
    "            'q': {\n",
    "                '_type': 'operation',\n",
    "                'expr': '{data.iloc[0].vote_share}-{data.iloc[2].vote_share}'\n",
    "            }\n",
    "\n",
    "        },\n",
    "        'adjective': ['higher', 'greater', 'more'],\n",
    "        'object': {\n",
    "            'template': 'in {x} than in {y}','x': {\n",
    "                '_type': 'cell',\n",
    "                'colname': 'AC',\n",
    "                '_filter': 'max(vote_share)'\n",
    "            },\n",
    "            'y': {\n",
    "                '_type': 'cell',\n",
    "                'colname': 'AC',\n",
    "                '_filter': 'min(vote_share)'\n",
    "            }\n",
    "        }\n",
    "    }\n",
    "}"
   ]
  },
  {
   "cell_type": "code",
   "execution_count": 22,
   "metadata": {},
   "outputs": [
    {
     "data": {
      "text/plain": [
       "\"BJP's voteshare is 4.0% greater than in Jaisalmer than in Jodhpur.\""
      ]
     },
     "execution_count": 22,
     "metadata": {},
     "output_type": "execute_result"
    }
   ],
   "source": [
    "tmpl.Narrative(struct).render()"
   ]
  }
 ],
 "metadata": {
  "kernelspec": {
   "display_name": "Python 3",
   "language": "python",
   "name": "python3"
  },
  "language_info": {
   "codemirror_mode": {
    "name": "ipython",
    "version": 3
   },
   "file_extension": ".py",
   "mimetype": "text/x-python",
   "name": "python",
   "nbconvert_exporter": "python",
   "pygments_lexer": "ipython3",
   "version": "3.6.3"
  }
 },
 "nbformat": 4,
 "nbformat_minor": 2
}
