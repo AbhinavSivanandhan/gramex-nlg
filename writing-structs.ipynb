{
 "cells": [
  {
   "cell_type": "code",
   "execution_count": 1,
   "metadata": {},
   "outputs": [
    {
     "data": {
      "text/html": [
       "<div>\n",
       "<style scoped>\n",
       "    .dataframe tbody tr th:only-of-type {\n",
       "        vertical-align: middle;\n",
       "    }\n",
       "\n",
       "    .dataframe tbody tr th {\n",
       "        vertical-align: top;\n",
       "    }\n",
       "\n",
       "    .dataframe thead th {\n",
       "        text-align: right;\n",
       "    }\n",
       "</style>\n",
       "<table border=\"1\" class=\"dataframe\">\n",
       "  <thead>\n",
       "    <tr style=\"text-align: right;\">\n",
       "      <th></th>\n",
       "      <th>Year</th>\n",
       "      <th>State</th>\n",
       "      <th>AC</th>\n",
       "      <th>Party</th>\n",
       "      <th>Vote share (%)</th>\n",
       "    </tr>\n",
       "  </thead>\n",
       "  <tbody>\n",
       "    <tr>\n",
       "      <th>0</th>\n",
       "      <td>2013</td>\n",
       "      <td>Rajasthan</td>\n",
       "      <td>Jaisalmer</td>\n",
       "      <td>BJP</td>\n",
       "      <td>24.0</td>\n",
       "    </tr>\n",
       "    <tr>\n",
       "      <th>1</th>\n",
       "      <td>2013</td>\n",
       "      <td>Rajasthan</td>\n",
       "      <td>Jaipur</td>\n",
       "      <td>BJP</td>\n",
       "      <td>22.0</td>\n",
       "    </tr>\n",
       "    <tr>\n",
       "      <th>2</th>\n",
       "      <td>2013</td>\n",
       "      <td>Rajasthan</td>\n",
       "      <td>Jodhpur</td>\n",
       "      <td>BJP</td>\n",
       "      <td>20.0</td>\n",
       "    </tr>\n",
       "  </tbody>\n",
       "</table>\n",
       "</div>"
      ],
      "text/plain": [
       "   Year      State         AC Party  Vote share (%)\n",
       "0  2013  Rajasthan  Jaisalmer   BJP            24.0\n",
       "1  2013  Rajasthan     Jaipur   BJP            22.0\n",
       "2  2013  Rajasthan    Jodhpur   BJP            20.0"
      ]
     },
     "execution_count": 1,
     "metadata": {},
     "output_type": "execute_result"
    }
   ],
   "source": [
    "import pandas as pd\n",
    "from importlib import reload\n",
    "from nlg import templates as tmpl\n",
    "df = pd.read_csv('data/assembly.csv')\n",
    "df['Vote share (%)'] = df.pop('Vote share').str.rstrip('%').astype(float)\n",
    "df.head()"
   ]
  },
  {
   "cell_type": "code",
   "execution_count": 3,
   "metadata": {},
   "outputs": [],
   "source": [
    "# BJP won the largest voteshare in Jaisalmer\n",
    "struct = {\n",
    "    'intent': 'extreme',\n",
    "    'data': df,\n",
    "    'metadata': {\n",
    "        'subject': 'BJP', # literal subject\n",
    "        'verb': ['won', 'scored', 'achieved'],\n",
    "        'adjective': ['highest', 'greatest', 'most', 'largest'],\n",
    "        'object': {\n",
    "            'template': 'vote share of {value} in {location}',\n",
    "            'kwargs': {\n",
    "                'location': {\n",
    "                    '_type': 'cell',\n",
    "                    'colname': 'AC',\n",
    "                    '_filter': {'colname': 'Vote share (%)', 'filter': 'max'}\n",
    "                },\n",
    "                'value': {\n",
    "                    '_type': 'cell',\n",
    "                    'colname': 'Vote share (%)',\n",
    "                    '_filter': 'max'\n",
    "                }\n",
    "            }\n",
    "        }\n",
    "    }\n",
    "}"
   ]
  },
  {
   "cell_type": "code",
   "execution_count": 4,
   "metadata": {},
   "outputs": [
    {
     "data": {
      "text/plain": [
       "'BJP won the largest vote share of 24.0 in Jaisalmer.'"
      ]
     },
     "execution_count": 4,
     "metadata": {},
     "output_type": "execute_result"
    }
   ],
   "source": [
    "tmpl.Narrative(struct).render()"
   ]
  },
  {
   "cell_type": "code",
   "execution_count": 5,
   "metadata": {},
   "outputs": [
    {
     "data": {
      "text/html": [
       "<div>\n",
       "<style scoped>\n",
       "    .dataframe tbody tr th:only-of-type {\n",
       "        vertical-align: middle;\n",
       "    }\n",
       "\n",
       "    .dataframe tbody tr th {\n",
       "        vertical-align: top;\n",
       "    }\n",
       "\n",
       "    .dataframe thead th {\n",
       "        text-align: right;\n",
       "    }\n",
       "</style>\n",
       "<table border=\"1\" class=\"dataframe\">\n",
       "  <thead>\n",
       "    <tr style=\"text-align: right;\">\n",
       "      <th></th>\n",
       "      <th>singer</th>\n",
       "      <th>partner</th>\n",
       "      <th>n_songs</th>\n",
       "    </tr>\n",
       "  </thead>\n",
       "  <tbody>\n",
       "    <tr>\n",
       "      <th>0</th>\n",
       "      <td>Kishore</td>\n",
       "      <td>Lata</td>\n",
       "      <td>20</td>\n",
       "    </tr>\n",
       "    <tr>\n",
       "      <th>1</th>\n",
       "      <td>Kishore</td>\n",
       "      <td>Asha</td>\n",
       "      <td>5</td>\n",
       "    </tr>\n",
       "    <tr>\n",
       "      <th>2</th>\n",
       "      <td>Kishore</td>\n",
       "      <td>Rafi</td>\n",
       "      <td>15</td>\n",
       "    </tr>\n",
       "  </tbody>\n",
       "</table>\n",
       "</div>"
      ],
      "text/plain": [
       "    singer partner  n_songs\n",
       "0  Kishore    Lata       20\n",
       "1  Kishore    Asha        5\n",
       "2  Kishore    Rafi       15"
      ]
     },
     "execution_count": 5,
     "metadata": {},
     "output_type": "execute_result"
    }
   ],
   "source": [
    "df = pd.DataFrame.from_dict({\n",
    "    'singer': ['Kishore', 'Kishore', 'Kishore'],\n",
    "    'partner': ['Lata', 'Asha', 'Rafi'],\n",
    "    'n_songs': [20, 5, 15]\n",
    "})\n",
    "df.head()"
   ]
  },
  {
   "cell_type": "code",
   "execution_count": 6,
   "metadata": {},
   "outputs": [],
   "source": [
    "# Kishore sang the most duets with Lata\n",
    "struct = {\n",
    "    'intent': 'extreme',\n",
    "    'data': df,\n",
    "    'metadata': {\n",
    "        'subject': {  # inferred subject\n",
    "            '_type': 'cell',\n",
    "            'colname': 'singer',\n",
    "            '_filter': 'mode'\n",
    "        },\n",
    "        'verb': 'sang',\n",
    "        'adjective': 'most',\n",
    "        'object': {\n",
    "            'template': 'duets with {partner}',\n",
    "            'kwargs': {\n",
    "                'partner': {\n",
    "                    '_type': 'cell',\n",
    "                    'colname': 'partner',\n",
    "                    '_filter': {'colname': 'n_songs', 'filter': 'max'}\n",
    "                }\n",
    "            }\n",
    "        }\n",
    "    }\n",
    "}"
   ]
  },
  {
   "cell_type": "code",
   "execution_count": 7,
   "metadata": {},
   "outputs": [
    {
     "data": {
      "text/plain": [
       "'Kishore sang the most duets with Lata.'"
      ]
     },
     "execution_count": 7,
     "metadata": {},
     "output_type": "execute_result"
    }
   ],
   "source": [
    "tmpl.Narrative(struct).render()"
   ]
  },
  {
   "cell_type": "code",
   "execution_count": 8,
   "metadata": {},
   "outputs": [
    {
     "data": {
      "text/html": [
       "<div>\n",
       "<style scoped>\n",
       "    .dataframe tbody tr th:only-of-type {\n",
       "        vertical-align: middle;\n",
       "    }\n",
       "\n",
       "    .dataframe tbody tr th {\n",
       "        vertical-align: top;\n",
       "    }\n",
       "\n",
       "    .dataframe thead th {\n",
       "        text-align: right;\n",
       "    }\n",
       "</style>\n",
       "<table border=\"1\" class=\"dataframe\">\n",
       "  <thead>\n",
       "    <tr style=\"text-align: right;\">\n",
       "      <th></th>\n",
       "      <th>character</th>\n",
       "      <th>n_episodes</th>\n",
       "      <th>time_per_episode</th>\n",
       "    </tr>\n",
       "  </thead>\n",
       "  <tbody>\n",
       "    <tr>\n",
       "      <th>0</th>\n",
       "      <td>Eddard Stark</td>\n",
       "      <td>10</td>\n",
       "      <td>6.2</td>\n",
       "    </tr>\n",
       "    <tr>\n",
       "      <th>1</th>\n",
       "      <td>Jon Snow</td>\n",
       "      <td>56</td>\n",
       "      <td>5.5</td>\n",
       "    </tr>\n",
       "  </tbody>\n",
       "</table>\n",
       "</div>"
      ],
      "text/plain": [
       "      character  n_episodes  time_per_episode\n",
       "0  Eddard Stark          10               6.2\n",
       "1      Jon Snow          56               5.5"
      ]
     },
     "execution_count": 8,
     "metadata": {},
     "output_type": "execute_result"
    }
   ],
   "source": [
    "df = pd.DataFrame.from_dict({\n",
    "    'character': ['Eddard Stark', 'Jon Snow'],\n",
    "    'n_episodes': [10, 56],\n",
    "    'time_per_episode': [6.2, 5.5]\n",
    "})\n",
    "df.head()"
   ]
  },
  {
   "cell_type": "code",
   "execution_count": 9,
   "metadata": {},
   "outputs": [],
   "source": [
    "# Ned Stark's screen time is 0.7 minutes greater than that of Jon Snow.\n",
    "struct = {\n",
    "    'intent': 'comparison',\n",
    "    'data': df,\n",
    "    'metadata': {\n",
    "        'subject': {\n",
    "            'template': '{character}\\'s screen time per episode',\n",
    "            'kwargs': {\n",
    "                'character': {\n",
    "                    '_type': 'cell',\n",
    "                    'colname': 'character',\n",
    "                    '_filter': {'colname': 'time_per_episode', 'filter': 'max'}\n",
    "                }\n",
    "            }            \n",
    "        },\n",
    "        'verb': 'is',\n",
    "        'quant': {\n",
    "            'template': '{q} minutes',\n",
    "            'kwargs': {\n",
    "                'q': {\n",
    "                    '_type': 'operation',\n",
    "                    'expr': '{data.iloc[0].time_per_episode} - {data.iloc[1].time_per_episode}'\n",
    "                }\n",
    "            }\n",
    "        },\n",
    "        'adjective': 'more',\n",
    "        'object': {\n",
    "            'template': 'that of {character}',\n",
    "            'kwargs': {\n",
    "                'character': {\n",
    "                    '_type': 'cell',\n",
    "                    'colname': 'character',\n",
    "                    '_filter': {'colname': 'time_per_episode', 'filter': 'min'}\n",
    "                }\n",
    "            }\n",
    "        }\n",
    "    }\n",
    "}"
   ]
  },
  {
   "cell_type": "code",
   "execution_count": 10,
   "metadata": {},
   "outputs": [
    {
     "data": {
      "text/plain": [
       "\"Eddard Stark's screen time per episode is 0.7000000000000002 minutes more than that of Jon Snow.\""
      ]
     },
     "execution_count": 10,
     "metadata": {},
     "output_type": "execute_result"
    }
   ],
   "source": [
    "tmpl.Narrative(struct).render()"
   ]
  },
  {
   "cell_type": "code",
   "execution_count": 15,
   "metadata": {},
   "outputs": [
    {
     "data": {
      "text/html": [
       "<div>\n",
       "<style scoped>\n",
       "    .dataframe tbody tr th:only-of-type {\n",
       "        vertical-align: middle;\n",
       "    }\n",
       "\n",
       "    .dataframe tbody tr th {\n",
       "        vertical-align: top;\n",
       "    }\n",
       "\n",
       "    .dataframe thead th {\n",
       "        text-align: right;\n",
       "    }\n",
       "</style>\n",
       "<table border=\"1\" class=\"dataframe\">\n",
       "  <thead>\n",
       "    <tr style=\"text-align: right;\">\n",
       "      <th></th>\n",
       "      <th>Year</th>\n",
       "      <th>State</th>\n",
       "      <th>AC</th>\n",
       "      <th>Party</th>\n",
       "      <th>vote_share</th>\n",
       "    </tr>\n",
       "  </thead>\n",
       "  <tbody>\n",
       "    <tr>\n",
       "      <th>0</th>\n",
       "      <td>2013</td>\n",
       "      <td>Rajasthan</td>\n",
       "      <td>Jaisalmer</td>\n",
       "      <td>BJP</td>\n",
       "      <td>24.0</td>\n",
       "    </tr>\n",
       "    <tr>\n",
       "      <th>1</th>\n",
       "      <td>2013</td>\n",
       "      <td>Rajasthan</td>\n",
       "      <td>Jaipur</td>\n",
       "      <td>BJP</td>\n",
       "      <td>22.0</td>\n",
       "    </tr>\n",
       "    <tr>\n",
       "      <th>2</th>\n",
       "      <td>2013</td>\n",
       "      <td>Rajasthan</td>\n",
       "      <td>Jodhpur</td>\n",
       "      <td>BJP</td>\n",
       "      <td>20.0</td>\n",
       "    </tr>\n",
       "  </tbody>\n",
       "</table>\n",
       "</div>"
      ],
      "text/plain": [
       "   Year      State         AC Party  vote_share\n",
       "0  2013  Rajasthan  Jaisalmer   BJP        24.0\n",
       "1  2013  Rajasthan     Jaipur   BJP        22.0\n",
       "2  2013  Rajasthan    Jodhpur   BJP        20.0"
      ]
     },
     "execution_count": 15,
     "metadata": {},
     "output_type": "execute_result"
    }
   ],
   "source": [
    "df = pd.read_csv('data/assembly.csv')\n",
    "df['vote_share'] = df.pop('Vote share').str.rstrip('%').astype(float)\n",
    "df.head()"
   ]
  },
  {
   "cell_type": "code",
   "execution_count": 16,
   "metadata": {},
   "outputs": [],
   "source": [
    "# BJP voteshare is 4% higher in Jaisalmer than in Jodhpur\n",
    "struct = {\n",
    "    'intent': 'comparison',\n",
    "    'data': df,\n",
    "    'metadata': {\n",
    "        'subject': {\n",
    "            'template': '{party}\\'s voteshare',\n",
    "            'kwargs': {\n",
    "                'party': {\n",
    "                    '_type': 'cell',\n",
    "                    'colname': 'Party',\n",
    "                    '_filter': 'mode'\n",
    "                }\n",
    "            }\n",
    "        },\n",
    "        'verb': 'is',\n",
    "        'quant': {\n",
    "            'template': '{q}%',\n",
    "            'kwargs': {\n",
    "                'q': {\n",
    "                    '_type': 'operation',\n",
    "                    'expr': '{data.iloc[0].vote_share}-{data.iloc[2].vote_share}'\n",
    "                }\n",
    "            }\n",
    "        },\n",
    "        'adjective': ['higher', 'greater', 'more'],\n",
    "        'object': {\n",
    "            'template': 'in {x} than in {y}',\n",
    "            'kwargs': {\n",
    "                'x': {\n",
    "                    '_type': 'cell',\n",
    "                    'colname': 'AC',\n",
    "                    '_filter': {'colname': 'vote_share', 'filter': 'max'}\n",
    "                },\n",
    "                'y': {\n",
    "                    '_type': 'cell',\n",
    "                    'colname': 'AC',\n",
    "                    '_filter': {'colname': 'vote_share', 'filter': 'min'}\n",
    "                }\n",
    "            }\n",
    "        }\n",
    "    }\n",
    "}"
   ]
  },
  {
   "cell_type": "code",
   "execution_count": 14,
   "metadata": {},
   "outputs": [
    {
     "data": {
      "text/plain": [
       "\"BJP's voteshare is 4.0% more than in Jaisalmer than in Jodhpur.\""
      ]
     },
     "execution_count": 14,
     "metadata": {},
     "output_type": "execute_result"
    }
   ],
   "source": [
    "tmpl.Narrative(struct).render()"
   ]
  },
  {
   "cell_type": "code",
   "execution_count": null,
   "metadata": {},
   "outputs": [],
   "source": []
  }
 ],
 "metadata": {
  "kernelspec": {
   "display_name": "Python 3",
   "language": "python",
   "name": "python3"
  },
  "language_info": {
   "codemirror_mode": {
    "name": "ipython",
    "version": 3
   },
   "file_extension": ".py",
   "mimetype": "text/x-python",
   "name": "python",
   "nbconvert_exporter": "python",
   "pygments_lexer": "ipython3",
   "version": "3.7.0"
  }
 },
 "nbformat": 4,
 "nbformat_minor": 2
}
